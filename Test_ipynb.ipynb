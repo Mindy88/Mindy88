{
  "nbformat": 4,
  "nbformat_minor": 0,
  "metadata": {
    "colab": {
      "provenance": [],
      "authorship_tag": "ABX9TyPzQEc7d88T5I24D/a8/ZT5",
      "include_colab_link": true
    },
    "kernelspec": {
      "name": "python3",
      "display_name": "Python 3"
    },
    "language_info": {
      "name": "python"
    }
  },
  "cells": [
    {
      "cell_type": "markdown",
      "metadata": {
        "id": "view-in-github",
        "colab_type": "text"
      },
      "source": [
        "<a href=\"https://colab.research.google.com/github/Mindy88/Mindy88/blob/main/Test_ipynb.ipynb\" target=\"_parent\"><img src=\"https://colab.research.google.com/assets/colab-badge.svg\" alt=\"Open In Colab\"/></a>"
      ]
    },
    {
      "cell_type": "code",
      "execution_count": null,
      "metadata": {
        "id": "EJVm_ZbI2npn"
      },
      "outputs": [],
      "source": [
        "bold"
      ]
    },
    {
      "cell_type": "code",
      "source": [
        "###https://www.markdownguide.org/basic-syntax/"
      ],
      "metadata": {
        "id": "oYnkz9Pl2s3q"
      },
      "execution_count": 1,
      "outputs": []
    },
    {
      "cell_type": "code",
      "source": [
        "###mark down"
      ],
      "metadata": {
        "id": "-0LRUzgX2tXm"
      },
      "execution_count": null,
      "outputs": []
    }
  ]
}